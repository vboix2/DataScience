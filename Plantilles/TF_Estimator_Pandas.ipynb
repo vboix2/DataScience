{
 "cells": [
  {
   "cell_type": "markdown",
   "metadata": {},
   "source": [
    "# TensorFlow Estimator amb Pandas"
   ]
  },
  {
   "cell_type": "markdown",
   "metadata": {},
   "source": [
    "Creació d'un model d'aprenentatge automàtic utilitzant l'API Estimator de Tensorflow a partir de dades en format CSV utilitzant Pandas"
   ]
  },
  {
   "cell_type": "markdown",
   "metadata": {},
   "source": [
    "### Preparació"
   ]
  },
  {
   "cell_type": "code",
   "execution_count": null,
   "metadata": {},
   "outputs": [],
   "source": [
    "# Importació de paquets\n",
    "\n",
    "import numpy as np\n",
    "import pandas as pd\n",
    "import tensorflow as tf\n",
    "\n",
    "# Increment de la verbositat\n",
    "tf.compat.v1.logging.set_verbosity(tf.compat.v1.logging.INFO)\n",
    "\n",
    "print(\"Versió de Tensorflow:\",tf.__version__)"
   ]
  },
  {
   "cell_type": "code",
   "execution_count": null,
   "metadata": {},
   "outputs": [],
   "source": [
    "# Paràmetres\n",
    "\n",
    "OUTDIR = './trained_model'  # Directori per als punts de control\n",
    "MAX_STEPS = 2000            # Cicles d'entrenament"
   ]
  },
  {
   "cell_type": "code",
   "execution_count": null,
   "metadata": {},
   "outputs": [],
   "source": [
    "# Lectura del dataset\n",
    "\n",
    "df = pd.read_csv(\"https://storage.googleapis.com/ml_universities/california_housing_train.csv\", sep=\",\")"
   ]
  },
  {
   "cell_type": "code",
   "execution_count": null,
   "metadata": {},
   "outputs": [],
   "source": [
    "# Divisió del dataset\n",
    "\n",
    "np.random.seed(seed=1)\n",
    "msk = np.random.rand(len(df)) < 0.8\n",
    "traindf = df[msk]\n",
    "evaldf = df[~msk]"
   ]
  },
  {
   "cell_type": "code",
   "execution_count": null,
   "metadata": {},
   "outputs": [],
   "source": [
    "# Funció per generar nous atributs\n",
    "\n",
    "def add_more_features(df):\n",
    "    df['rooms_per_house'] = df['total_rooms'] / df['households']\n",
    "    return df"
   ]
  },
  {
   "cell_type": "code",
   "execution_count": null,
   "metadata": {},
   "outputs": [],
   "source": [
    "# Funció d'entrada de Pandas\n",
    "\n",
    "def make_input_fn(df, num_epochs):\n",
    "    return tf.compat.v1.estimator.inputs.pandas_input_fn(\n",
    "        x = add_more_features(df),     # Atributs\n",
    "        y = df['median_house_value'],  # Etiqueta objectiu\n",
    "        batch_size = 128,              # Nombre de registres amb què es calcula el gradient per cicle d'entrenament\n",
    "        num_epochs = num_epochs,       # Nombre de vegades que s'utilitza el dataset durant l'entrenament\n",
    "        shuffle = True,                # Redistribució dels registres\n",
    "        queue_capacity = 1000,\n",
    "        num_threads = 1\n",
    "    )"
   ]
  },
  {
   "cell_type": "code",
   "execution_count": null,
   "metadata": {},
   "outputs": [],
   "source": [
    "# Funció que defineix els atributs a TF\n",
    "\n",
    "def create_feature_cols():\n",
    "    return [\n",
    "        tf.feature_column.numeric_column('housing_median_age'),\n",
    "        tf.feature_column.bucketized_column(tf.feature_column.numeric_column('latitude'),\n",
    "                                            boundaries = np.arange(32.0, 42, 1).tolist()),\n",
    "        tf.feature_column.numeric_column('rooms_per_house'),\n",
    "        tf.feature_column.numeric_column('median_income')\n",
    "    ]"
   ]
  },
  {
   "cell_type": "markdown",
   "metadata": {},
   "source": [
    "### Entrenament"
   ]
  },
  {
   "cell_type": "code",
   "execution_count": null,
   "metadata": {},
   "outputs": [],
   "source": [
    "# Funció que crea l'estimador i defineix les tasques d'entrenament i avaluació\n",
    "\n",
    "def train_and_evaluate(output_dir, num_train_steps):\n",
    "    \n",
    "    # Estimador\n",
    "    estimator = tf.compat.v1.estimator.LinearRegressor(\n",
    "        model_dir = output_dir,                   # Directori per als punts de control\n",
    "        feature_columns = create_feature_cols()   # Atributs definits a TF\n",
    "    )\n",
    "    \n",
    "    # Configuració del conjunt de dades d'entrenament\n",
    "    train_spec = tf.estimator.TrainSpec(\n",
    "        input_fn = make_input_fn(traindf, None),  # Funció d'entrada de dades\n",
    "        max_steps = num_train_steps)              # Nombre màxim de cicles d'entrenament\n",
    "    \n",
    "    # Configuració del conjunt de dades d'avaluació\n",
    "    eval_spec = tf.estimator.EvalSpec(\n",
    "        input_fn = make_input_fn(evaldf, 1),      # Funció d'entrada de dades\n",
    "        steps = None, \n",
    "        start_delay_secs = 1,                     # Retard en l'inici de l'avaluació\n",
    "        throttle_secs = 5)                        # Període (s) entre avaluacions\n",
    "    \n",
    "    # Entrenament del model\n",
    "    tf.estimator.train_and_evaluate(estimator, train_spec, eval_spec)"
   ]
  },
  {
   "cell_type": "code",
   "execution_count": null,
   "metadata": {
    "scrolled": false
   },
   "outputs": [],
   "source": [
    "# Execució del model\n",
    "\n",
    "tf.compat.v1.summary.FileWriterCache.clear() \n",
    "train_and_evaluate(OUTDIR, MAX_STEPS)"
   ]
  },
  {
   "cell_type": "markdown",
   "metadata": {},
   "source": [
    "### Supervisió del model"
   ]
  },
  {
   "cell_type": "code",
   "execution_count": null,
   "metadata": {},
   "outputs": [],
   "source": [
    "# Supervisió amb TensorBoard\n",
    "\n",
    "%load_ext tensorboard\n",
    "%tensorboard --logdir trained_model"
   ]
  }
 ],
 "metadata": {
  "kernelspec": {
   "display_name": "Python 3",
   "language": "python",
   "name": "python3"
  },
  "language_info": {
   "codemirror_mode": {
    "name": "ipython",
    "version": 3
   },
   "file_extension": ".py",
   "mimetype": "text/x-python",
   "name": "python",
   "nbconvert_exporter": "python",
   "pygments_lexer": "ipython3",
   "version": "3.6.8"
  }
 },
 "nbformat": 4,
 "nbformat_minor": 2
}
