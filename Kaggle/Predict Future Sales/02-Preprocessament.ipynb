{
 "cells": [
  {
   "cell_type": "markdown",
   "metadata": {},
   "source": [
    "# Predict Future Sales\n",
    "\n",
    "Final project for \"How to win a Data Science Competition\"\n",
    "\n",
    "* https://www.kaggle.com/c/competitive-data-science-predict-future-sales/data\n",
    "* https://www.coursera.org/learn/competitive-data-science/home/welcome"
   ]
  },
  {
   "cell_type": "code",
   "execution_count": 232,
   "metadata": {},
   "outputs": [],
   "source": [
    "# Importació de mòduls\n",
    "\n",
    "import numpy as np\n",
    "import pandas as pd"
   ]
  },
  {
   "cell_type": "code",
   "execution_count": 233,
   "metadata": {},
   "outputs": [],
   "source": [
    "# Importació de dades\n",
    "\n",
    "sales = pd.read_csv('competitive-data-science-predict-future-sales/sales_train.csv')\n",
    "items = pd.read_csv('competitive-data-science-predict-future-sales/items.csv')\n",
    "test = pd.read_csv('competitive-data-science-predict-future-sales/test.csv')\n",
    "categories = pd.read_csv('competitive-data-science-predict-future-sales/item_categories.csv')"
   ]
  },
  {
   "cell_type": "markdown",
   "metadata": {},
   "source": [
    "## Categories"
   ]
  },
  {
   "cell_type": "code",
   "execution_count": 234,
   "metadata": {
    "scrolled": true
   },
   "outputs": [],
   "source": [
    "def category_name2(s):\n",
    "    # Torna la segona part del nom de la categoria, quan és possible\n",
    "    s = s.split(' - ')\n",
    "    if len(s)==2:\n",
    "        return s[1]\n",
    "    else:\n",
    "        return s[0]"
   ]
  },
  {
   "cell_type": "code",
   "execution_count": 235,
   "metadata": {},
   "outputs": [],
   "source": [
    "# Obtenim subcategories\n",
    "\n",
    "categories['cat_name1'] = categories.iloc[:,0].apply(lambda s: s.split(' - ')[0])\n",
    "categories['cat_name2'] = categories.iloc[:,0].apply(category_name2)"
   ]
  },
  {
   "cell_type": "code",
   "execution_count": 236,
   "metadata": {},
   "outputs": [
    {
     "data": {
      "text/html": [
       "<div>\n",
       "<style scoped>\n",
       "    .dataframe tbody tr th:only-of-type {\n",
       "        vertical-align: middle;\n",
       "    }\n",
       "\n",
       "    .dataframe tbody tr th {\n",
       "        vertical-align: top;\n",
       "    }\n",
       "\n",
       "    .dataframe thead th {\n",
       "        text-align: right;\n",
       "    }\n",
       "</style>\n",
       "<table border=\"1\" class=\"dataframe\">\n",
       "  <thead>\n",
       "    <tr style=\"text-align: right;\">\n",
       "      <th></th>\n",
       "      <th>item_category_name</th>\n",
       "      <th>item_category_id</th>\n",
       "      <th>cat_name1</th>\n",
       "      <th>cat_name2</th>\n",
       "    </tr>\n",
       "  </thead>\n",
       "  <tbody>\n",
       "    <tr>\n",
       "      <th>0</th>\n",
       "      <td>PC - Гарнитуры/Наушники</td>\n",
       "      <td>0</td>\n",
       "      <td>PC</td>\n",
       "      <td>Гарнитуры/Наушники</td>\n",
       "    </tr>\n",
       "    <tr>\n",
       "      <th>1</th>\n",
       "      <td>Аксессуары - PS2</td>\n",
       "      <td>1</td>\n",
       "      <td>Аксессуары</td>\n",
       "      <td>PS2</td>\n",
       "    </tr>\n",
       "    <tr>\n",
       "      <th>2</th>\n",
       "      <td>Аксессуары - PS3</td>\n",
       "      <td>2</td>\n",
       "      <td>Аксессуары</td>\n",
       "      <td>PS3</td>\n",
       "    </tr>\n",
       "    <tr>\n",
       "      <th>3</th>\n",
       "      <td>Аксессуары - PS4</td>\n",
       "      <td>3</td>\n",
       "      <td>Аксессуары</td>\n",
       "      <td>PS4</td>\n",
       "    </tr>\n",
       "    <tr>\n",
       "      <th>4</th>\n",
       "      <td>Аксессуары - PSP</td>\n",
       "      <td>4</td>\n",
       "      <td>Аксессуары</td>\n",
       "      <td>PSP</td>\n",
       "    </tr>\n",
       "  </tbody>\n",
       "</table>\n",
       "</div>"
      ],
      "text/plain": [
       "        item_category_name  item_category_id   cat_name1           cat_name2\n",
       "0  PC - Гарнитуры/Наушники                 0          PC  Гарнитуры/Наушники\n",
       "1         Аксессуары - PS2                 1  Аксессуары                 PS2\n",
       "2         Аксессуары - PS3                 2  Аксессуары                 PS3\n",
       "3         Аксессуары - PS4                 3  Аксессуары                 PS4\n",
       "4         Аксессуары - PSP                 4  Аксессуары                 PSP"
      ]
     },
     "execution_count": 236,
     "metadata": {},
     "output_type": "execute_result"
    }
   ],
   "source": [
    "categories.head()"
   ]
  },
  {
   "cell_type": "markdown",
   "metadata": {},
   "source": [
    "## Sales"
   ]
  },
  {
   "cell_type": "code",
   "execution_count": 237,
   "metadata": {},
   "outputs": [],
   "source": [
    "# Outliers\n",
    "\n",
    "sales = sales.loc[sales.item_price<10000,:]\n",
    "sales = sales.loc[sales.item_cnt_day<1500,:]"
   ]
  },
  {
   "cell_type": "code",
   "execution_count": 238,
   "metadata": {},
   "outputs": [],
   "source": [
    "# Preus negatius\n",
    "\n",
    "sales = sales.loc[sales.item_price>0,:]"
   ]
  },
  {
   "cell_type": "code",
   "execution_count": 239,
   "metadata": {},
   "outputs": [],
   "source": [
    "# Devolucions\n",
    "\n",
    "sales = sales.loc[sales.item_cnt_day > 0,:]"
   ]
  },
  {
   "cell_type": "code",
   "execution_count": 240,
   "metadata": {},
   "outputs": [],
   "source": [
    "# Agregació de ventes per mes\n",
    "\n",
    "sales_month = sales\\\n",
    "            .groupby(['date_block_num','item_id','shop_id'], as_index = False)\\\n",
    "            .agg({'item_cnt_day':'sum'})\\\n",
    "            .rename(columns= {'item_cnt_day':'item_cnt'})"
   ]
  },
  {
   "cell_type": "markdown",
   "metadata": {},
   "source": [
    "## Train dataset"
   ]
  },
  {
   "cell_type": "code",
   "execution_count": 241,
   "metadata": {
    "scrolled": true
   },
   "outputs": [],
   "source": [
    "# Generem conjunt train: shop, item, date_block_num\n",
    "\n",
    "train = test.iloc[:,1:].copy()\n",
    "train['date_block_num'] = 0\n",
    "\n",
    "for d in range(1,34):\n",
    "    df = test.iloc[:,1:].copy()\n",
    "    df['date_block_num'] = d\n",
    "    train = train.append(df)"
   ]
  },
  {
   "cell_type": "code",
   "execution_count": 242,
   "metadata": {},
   "outputs": [],
   "source": [
    "# Generem any i mes\n",
    "\n",
    "train['year'] = 2013 + train['date_block_num']//12\n",
    "train['month'] = 1 + train['date_block_num']%12"
   ]
  },
  {
   "cell_type": "code",
   "execution_count": 243,
   "metadata": {},
   "outputs": [],
   "source": [
    "# Afegim categoria\n",
    "\n",
    "train = pd.merge(train, items[['item_id','item_category_id']], how='left', on='item_id')"
   ]
  },
  {
   "cell_type": "code",
   "execution_count": 244,
   "metadata": {},
   "outputs": [],
   "source": [
    "# Afegim subcategories\n",
    "\n",
    "train = pd.merge(train, categories[['item_category_id','cat_name1','cat_name2']], how='left', on='item_category_id')"
   ]
  },
  {
   "cell_type": "code",
   "execution_count": 245,
   "metadata": {},
   "outputs": [],
   "source": [
    "# Afegim ventes\n",
    "\n",
    "train = pd.merge(train, sales_month, how='left', on=['item_id','shop_id','date_block_num'])\n",
    "\n",
    "train.fillna(value=0, inplace=True)"
   ]
  },
  {
   "cell_type": "code",
   "execution_count": 246,
   "metadata": {
    "scrolled": false
   },
   "outputs": [
    {
     "data": {
      "text/html": [
       "<div>\n",
       "<style scoped>\n",
       "    .dataframe tbody tr th:only-of-type {\n",
       "        vertical-align: middle;\n",
       "    }\n",
       "\n",
       "    .dataframe tbody tr th {\n",
       "        vertical-align: top;\n",
       "    }\n",
       "\n",
       "    .dataframe thead th {\n",
       "        text-align: right;\n",
       "    }\n",
       "</style>\n",
       "<table border=\"1\" class=\"dataframe\">\n",
       "  <thead>\n",
       "    <tr style=\"text-align: right;\">\n",
       "      <th></th>\n",
       "      <th>shop_id</th>\n",
       "      <th>item_id</th>\n",
       "      <th>date_block_num</th>\n",
       "      <th>year</th>\n",
       "      <th>month</th>\n",
       "      <th>item_category_id</th>\n",
       "      <th>cat_name1</th>\n",
       "      <th>cat_name2</th>\n",
       "      <th>item_cnt</th>\n",
       "    </tr>\n",
       "  </thead>\n",
       "  <tbody>\n",
       "    <tr>\n",
       "      <th>0</th>\n",
       "      <td>5</td>\n",
       "      <td>5037</td>\n",
       "      <td>0</td>\n",
       "      <td>2013</td>\n",
       "      <td>1</td>\n",
       "      <td>19</td>\n",
       "      <td>Игры</td>\n",
       "      <td>PS3</td>\n",
       "      <td>0.0</td>\n",
       "    </tr>\n",
       "    <tr>\n",
       "      <th>1</th>\n",
       "      <td>5</td>\n",
       "      <td>5320</td>\n",
       "      <td>0</td>\n",
       "      <td>2013</td>\n",
       "      <td>1</td>\n",
       "      <td>55</td>\n",
       "      <td>Музыка</td>\n",
       "      <td>CD локального производства</td>\n",
       "      <td>0.0</td>\n",
       "    </tr>\n",
       "    <tr>\n",
       "      <th>2</th>\n",
       "      <td>5</td>\n",
       "      <td>5233</td>\n",
       "      <td>0</td>\n",
       "      <td>2013</td>\n",
       "      <td>1</td>\n",
       "      <td>19</td>\n",
       "      <td>Игры</td>\n",
       "      <td>PS3</td>\n",
       "      <td>0.0</td>\n",
       "    </tr>\n",
       "    <tr>\n",
       "      <th>3</th>\n",
       "      <td>5</td>\n",
       "      <td>5232</td>\n",
       "      <td>0</td>\n",
       "      <td>2013</td>\n",
       "      <td>1</td>\n",
       "      <td>23</td>\n",
       "      <td>Игры</td>\n",
       "      <td>XBOX 360</td>\n",
       "      <td>0.0</td>\n",
       "    </tr>\n",
       "    <tr>\n",
       "      <th>4</th>\n",
       "      <td>5</td>\n",
       "      <td>5268</td>\n",
       "      <td>0</td>\n",
       "      <td>2013</td>\n",
       "      <td>1</td>\n",
       "      <td>20</td>\n",
       "      <td>Игры</td>\n",
       "      <td>PS4</td>\n",
       "      <td>0.0</td>\n",
       "    </tr>\n",
       "  </tbody>\n",
       "</table>\n",
       "</div>"
      ],
      "text/plain": [
       "   shop_id  item_id  date_block_num  year  month  item_category_id cat_name1  \\\n",
       "0        5     5037               0  2013      1                19      Игры   \n",
       "1        5     5320               0  2013      1                55    Музыка   \n",
       "2        5     5233               0  2013      1                19      Игры   \n",
       "3        5     5232               0  2013      1                23      Игры   \n",
       "4        5     5268               0  2013      1                20      Игры   \n",
       "\n",
       "                    cat_name2  item_cnt  \n",
       "0                         PS3       0.0  \n",
       "1  CD локального производства       0.0  \n",
       "2                         PS3       0.0  \n",
       "3                    XBOX 360       0.0  \n",
       "4                         PS4       0.0  "
      ]
     },
     "execution_count": 246,
     "metadata": {},
     "output_type": "execute_result"
    }
   ],
   "source": [
    "train.head()"
   ]
  },
  {
   "cell_type": "markdown",
   "metadata": {},
   "source": [
    "## Test dataset"
   ]
  },
  {
   "cell_type": "code",
   "execution_count": 247,
   "metadata": {},
   "outputs": [],
   "source": [
    "test['year'] = 2015\n",
    "test['month'] = 11\n",
    "test['date_block_num'] = 34\n",
    "\n",
    "test = pd.merge(test, items[['item_id','item_category_id']], how='left', on='item_id')\n",
    "test = pd.merge(test, categories[['item_category_id','cat_name1','cat_name2']], how='left', on='item_category_id')"
   ]
  },
  {
   "cell_type": "code",
   "execution_count": 248,
   "metadata": {
    "scrolled": true
   },
   "outputs": [
    {
     "data": {
      "text/html": [
       "<div>\n",
       "<style scoped>\n",
       "    .dataframe tbody tr th:only-of-type {\n",
       "        vertical-align: middle;\n",
       "    }\n",
       "\n",
       "    .dataframe tbody tr th {\n",
       "        vertical-align: top;\n",
       "    }\n",
       "\n",
       "    .dataframe thead th {\n",
       "        text-align: right;\n",
       "    }\n",
       "</style>\n",
       "<table border=\"1\" class=\"dataframe\">\n",
       "  <thead>\n",
       "    <tr style=\"text-align: right;\">\n",
       "      <th></th>\n",
       "      <th>ID</th>\n",
       "      <th>shop_id</th>\n",
       "      <th>item_id</th>\n",
       "      <th>year</th>\n",
       "      <th>month</th>\n",
       "      <th>date_block_num</th>\n",
       "      <th>item_category_id</th>\n",
       "    </tr>\n",
       "  </thead>\n",
       "  <tbody>\n",
       "    <tr>\n",
       "      <th>count</th>\n",
       "      <td>214200.000000</td>\n",
       "      <td>214200.000000</td>\n",
       "      <td>214200.000000</td>\n",
       "      <td>214200.0</td>\n",
       "      <td>214200.0</td>\n",
       "      <td>214200.0</td>\n",
       "      <td>214200.000000</td>\n",
       "    </tr>\n",
       "    <tr>\n",
       "      <th>mean</th>\n",
       "      <td>107099.500000</td>\n",
       "      <td>31.642857</td>\n",
       "      <td>11019.398627</td>\n",
       "      <td>2015.0</td>\n",
       "      <td>11.0</td>\n",
       "      <td>34.0</td>\n",
       "      <td>46.309608</td>\n",
       "    </tr>\n",
       "    <tr>\n",
       "      <th>std</th>\n",
       "      <td>61834.358168</td>\n",
       "      <td>17.561933</td>\n",
       "      <td>6252.644590</td>\n",
       "      <td>0.0</td>\n",
       "      <td>0.0</td>\n",
       "      <td>0.0</td>\n",
       "      <td>16.716581</td>\n",
       "    </tr>\n",
       "    <tr>\n",
       "      <th>min</th>\n",
       "      <td>0.000000</td>\n",
       "      <td>2.000000</td>\n",
       "      <td>30.000000</td>\n",
       "      <td>2015.0</td>\n",
       "      <td>11.0</td>\n",
       "      <td>34.0</td>\n",
       "      <td>0.000000</td>\n",
       "    </tr>\n",
       "    <tr>\n",
       "      <th>25%</th>\n",
       "      <td>53549.750000</td>\n",
       "      <td>16.000000</td>\n",
       "      <td>5381.500000</td>\n",
       "      <td>2015.0</td>\n",
       "      <td>11.0</td>\n",
       "      <td>34.0</td>\n",
       "      <td>37.000000</td>\n",
       "    </tr>\n",
       "    <tr>\n",
       "      <th>50%</th>\n",
       "      <td>107099.500000</td>\n",
       "      <td>34.500000</td>\n",
       "      <td>11203.000000</td>\n",
       "      <td>2015.0</td>\n",
       "      <td>11.0</td>\n",
       "      <td>34.0</td>\n",
       "      <td>43.000000</td>\n",
       "    </tr>\n",
       "    <tr>\n",
       "      <th>75%</th>\n",
       "      <td>160649.250000</td>\n",
       "      <td>47.000000</td>\n",
       "      <td>16071.500000</td>\n",
       "      <td>2015.0</td>\n",
       "      <td>11.0</td>\n",
       "      <td>34.0</td>\n",
       "      <td>58.000000</td>\n",
       "    </tr>\n",
       "    <tr>\n",
       "      <th>max</th>\n",
       "      <td>214199.000000</td>\n",
       "      <td>59.000000</td>\n",
       "      <td>22167.000000</td>\n",
       "      <td>2015.0</td>\n",
       "      <td>11.0</td>\n",
       "      <td>34.0</td>\n",
       "      <td>83.000000</td>\n",
       "    </tr>\n",
       "  </tbody>\n",
       "</table>\n",
       "</div>"
      ],
      "text/plain": [
       "                  ID        shop_id        item_id      year     month  \\\n",
       "count  214200.000000  214200.000000  214200.000000  214200.0  214200.0   \n",
       "mean   107099.500000      31.642857   11019.398627    2015.0      11.0   \n",
       "std     61834.358168      17.561933    6252.644590       0.0       0.0   \n",
       "min         0.000000       2.000000      30.000000    2015.0      11.0   \n",
       "25%     53549.750000      16.000000    5381.500000    2015.0      11.0   \n",
       "50%    107099.500000      34.500000   11203.000000    2015.0      11.0   \n",
       "75%    160649.250000      47.000000   16071.500000    2015.0      11.0   \n",
       "max    214199.000000      59.000000   22167.000000    2015.0      11.0   \n",
       "\n",
       "       date_block_num  item_category_id  \n",
       "count        214200.0     214200.000000  \n",
       "mean             34.0         46.309608  \n",
       "std               0.0         16.716581  \n",
       "min              34.0          0.000000  \n",
       "25%              34.0         37.000000  \n",
       "50%              34.0         43.000000  \n",
       "75%              34.0         58.000000  \n",
       "max              34.0         83.000000  "
      ]
     },
     "execution_count": 248,
     "metadata": {},
     "output_type": "execute_result"
    }
   ],
   "source": [
    "test.describe()"
   ]
  },
  {
   "cell_type": "markdown",
   "metadata": {},
   "source": [
    "## Conjunt de validació"
   ]
  },
  {
   "cell_type": "code",
   "execution_count": 249,
   "metadata": {},
   "outputs": [],
   "source": [
    "# Finestra temporal en mesos\n",
    "WINDOW = 12 \n",
    "\n",
    "# Mes per a les prediccions\n",
    "TEST_MONTH = 34\n",
    "LAST_MONTH = TEST_MONTH - 1"
   ]
  },
  {
   "cell_type": "code",
   "execution_count": 250,
   "metadata": {},
   "outputs": [],
   "source": [
    "# Conjunt d'entrenament i validació\n",
    "train_sales = train.loc[(train['date_block_num']<LAST_MONTH)&(train['date_block_num']>=(LAST_MONTH-WINDOW)),:]\n",
    "train_eval = train.loc[train['date_block_num']==LAST_MONTH,:]\n",
    "\n",
    "# Conjunt d'entrenament per a la predicció\n",
    "train = train.loc[train['date_block_num']>=(TEST_MONTH-WINDOW),:]"
   ]
  },
  {
   "cell_type": "markdown",
   "metadata": {},
   "source": [
    "## Feature engineering"
   ]
  },
  {
   "cell_type": "code",
   "execution_count": 251,
   "metadata": {},
   "outputs": [],
   "source": [
    "# Atribut combinat itemshop\n",
    "\n",
    "train_sales['itemshop_id'] = train_sales['item_id'] * 100 + train_sales['shop_id']\n",
    "train_eval['itemshop_id'] = train_eval['item_id'] * 100 + train_eval['shop_id']"
   ]
  },
  {
   "cell_type": "code",
   "execution_count": 252,
   "metadata": {},
   "outputs": [],
   "source": [
    "# Frequency encoding\n",
    "\n",
    "cat_feats = ['itemshop_id','item_id','shop_id','item_category_id','cat_name1','cat_name2']\n",
    "\n",
    "for attrib in cat_feats:\n",
    "    cnt = train_sales.groupby([attrib], as_index=False)\\\n",
    "                        .agg({'item_cnt':'sum'})\\\n",
    "                        .rename(columns={'item_cnt': (attrib + '_freq')})\n",
    "\n",
    "    train_sales = pd.merge(train_sales, cnt, how='left', on=attrib)\n",
    "    train_eval = pd.merge(train_eval, cnt, how='left', on=attrib)"
   ]
  },
  {
   "cell_type": "code",
   "execution_count": 253,
   "metadata": {},
   "outputs": [],
   "source": [
    "# Eliminem atributs categòrics\n",
    "\n",
    "train_sales.drop(cat_feats, 1, inplace=True)\n",
    "train_eval.drop(cat_feats, 1, inplace=True)"
   ]
  },
  {
   "cell_type": "code",
   "execution_count": 254,
   "metadata": {},
   "outputs": [],
   "source": [
    "# Exportem les dades a CSV\n",
    "\n",
    "train_sales.to_csv('train_sales.csv', index=False)\n",
    "train_eval.to_csv('train_eval.csv', index=False)"
   ]
  },
  {
   "cell_type": "markdown",
   "metadata": {},
   "source": [
    "## Preprocessament train, test"
   ]
  },
  {
   "cell_type": "code",
   "execution_count": 255,
   "metadata": {},
   "outputs": [],
   "source": [
    "# Preprocessament per a la predicció\n",
    "\n",
    "train['itemshop_id'] = train['item_id'] * 100 + train['shop_id']\n",
    "test['itemshop_id'] = test['item_id'] * 100 + test['shop_id']\n",
    "\n",
    "for attrib in cat_feats:\n",
    "    cnt = train.groupby([attrib], as_index=False)\\\n",
    "                        .agg({'item_cnt':'sum'})\\\n",
    "                        .rename(columns={'item_cnt': (attrib + '_freq')})\n",
    "\n",
    "    train = pd.merge(train, cnt, how='left', on=attrib)\n",
    "    test = pd.merge(test, cnt, how='left', on=attrib)\n",
    "\n",
    "train.drop(cat_feats, 1, inplace=True)\n",
    "test.drop(cat_feats, 1, inplace=True)\n",
    "\n",
    "train.to_csv('train.csv', index=False)\n",
    "test.to_csv('test.csv', index=False)"
   ]
  }
 ],
 "metadata": {
  "kernelspec": {
   "display_name": "Python 3",
   "language": "python",
   "name": "python3"
  },
  "language_info": {
   "codemirror_mode": {
    "name": "ipython",
    "version": 3
   },
   "file_extension": ".py",
   "mimetype": "text/x-python",
   "name": "python",
   "nbconvert_exporter": "python",
   "pygments_lexer": "ipython3",
   "version": "3.6.8"
  }
 },
 "nbformat": 4,
 "nbformat_minor": 2
}
