{
 "cells": [
  {
   "cell_type": "markdown",
   "metadata": {},
   "source": [
    "# Predict Future Sales\n",
    "\n",
    "Final project for \"How to win a Data Science Competition\"\n",
    "\n",
    "* https://www.kaggle.com/c/competitive-data-science-predict-future-sales/data\n",
    "* https://www.coursera.org/learn/competitive-data-science/home/welcome"
   ]
  },
  {
   "cell_type": "code",
   "execution_count": 36,
   "metadata": {},
   "outputs": [],
   "source": [
    "# Importació de mòduls\n",
    "\n",
    "import numpy as np\n",
    "import pandas as pd\n",
    "import matplotlib.pyplot as plt\n",
    "%matplotlib inline\n",
    "\n",
    "from sklearn.preprocessing import MinMaxScaler\n",
    "from sklearn.model_selection import GridSearchCV\n",
    "from sklearn.metrics import mean_squared_error\n",
    "from xgboost import XGBRegressor\n",
    "from xgboost import plot_importance"
   ]
  },
  {
   "cell_type": "code",
   "execution_count": 47,
   "metadata": {},
   "outputs": [],
   "source": [
    "# Importació de dades\n",
    "\n",
    "train_sales = pd.read_csv('train_sales.csv')\n",
    "train_eval = pd.read_csv('train_eval.csv')\n",
    "\n",
    "train = pd.read_csv('train.csv')\n",
    "test = pd.read_csv('test.csv')"
   ]
  },
  {
   "cell_type": "code",
   "execution_count": 38,
   "metadata": {},
   "outputs": [],
   "source": [
    "# Conjunts d'entrenament i validació\n",
    "\n",
    "X_train = train_sales.drop('item_cnt', 1)\n",
    "y_train = train_sales['item_cnt']\n",
    "\n",
    "X_eval = train_eval.drop('item_cnt', 1)\n",
    "y_eval = train_eval['item_cnt']"
   ]
  },
  {
   "cell_type": "code",
   "execution_count": 39,
   "metadata": {},
   "outputs": [
    {
     "name": "stdout",
     "output_type": "stream",
     "text": [
      "[0]\tvalidation_0-rmse:3.07697\tvalidation_1-rmse:2.5378\n",
      "[1]\tvalidation_0-rmse:2.86692\tvalidation_1-rmse:2.41125\n",
      "[2]\tvalidation_0-rmse:2.68271\tvalidation_1-rmse:2.30705\n",
      "[3]\tvalidation_0-rmse:2.51084\tvalidation_1-rmse:2.22\n",
      "[4]\tvalidation_0-rmse:2.36144\tvalidation_1-rmse:2.13807\n",
      "[5]\tvalidation_0-rmse:2.22817\tvalidation_1-rmse:2.07356\n",
      "[6]\tvalidation_0-rmse:2.11189\tvalidation_1-rmse:2.0196\n",
      "[7]\tvalidation_0-rmse:2.00153\tvalidation_1-rmse:1.97765\n",
      "[8]\tvalidation_0-rmse:1.90345\tvalidation_1-rmse:1.94073\n",
      "[9]\tvalidation_0-rmse:1.82062\tvalidation_1-rmse:1.90736\n",
      "[10]\tvalidation_0-rmse:1.74547\tvalidation_1-rmse:1.88216\n",
      "[11]\tvalidation_0-rmse:1.6778\tvalidation_1-rmse:1.86306\n",
      "[12]\tvalidation_0-rmse:1.61568\tvalidation_1-rmse:1.84903\n",
      "[13]\tvalidation_0-rmse:1.56184\tvalidation_1-rmse:1.83452\n",
      "[14]\tvalidation_0-rmse:1.51302\tvalidation_1-rmse:1.82497\n",
      "[15]\tvalidation_0-rmse:1.46811\tvalidation_1-rmse:1.81573\n",
      "[16]\tvalidation_0-rmse:1.42363\tvalidation_1-rmse:1.80789\n",
      "[17]\tvalidation_0-rmse:1.38209\tvalidation_1-rmse:1.80106\n",
      "[18]\tvalidation_0-rmse:1.34045\tvalidation_1-rmse:1.79793\n",
      "[19]\tvalidation_0-rmse:1.30681\tvalidation_1-rmse:1.79586\n"
     ]
    },
    {
     "data": {
      "text/plain": [
       "XGBRegressor(base_score=0.5, booster='gbtree', colsample_bylevel=1,\n",
       "             colsample_bynode=1, colsample_bytree=1, gamma=0,\n",
       "             importance_type='gain', learning_rate=0.1, max_delta_step=0,\n",
       "             max_depth=10, min_child_weight=1, missing=None, n_estimators=20,\n",
       "             n_jobs=1, nthread=None, objective='reg:squarederror',\n",
       "             random_state=0, reg_alpha=0, reg_lambda=1, scale_pos_weight=1,\n",
       "             seed=None, silent=None, subsample=1, verbosity=1)"
      ]
     },
     "execution_count": 39,
     "metadata": {},
     "output_type": "execute_result"
    }
   ],
   "source": [
    "# Entrenament\n",
    "\n",
    "model = XGBRegressor(n_estimators= 20, max_depth=10, objective='reg:squarederror')\n",
    "model.fit(X_train, y_train, eval_metric=\"rmse\", eval_set=[(X_train, y_train), (X_eval, y_eval)])"
   ]
  },
  {
   "cell_type": "code",
   "execution_count": 41,
   "metadata": {
    "scrolled": true
   },
   "outputs": [
    {
     "data": {
      "text/plain": [
       "0.9513379751828343"
      ]
     },
     "execution_count": 41,
     "metadata": {},
     "output_type": "execute_result"
    }
   ],
   "source": [
    "# RMSE del conjunt de validació\n",
    "\n",
    "y_pred = model.predict(X_eval)\n",
    "np.sqrt(mean_squared_error(y_pred.clip(0,20), y_eval.clip(0,20)))"
   ]
  },
  {
   "cell_type": "code",
   "execution_count": 42,
   "metadata": {},
   "outputs": [
    {
     "data": {
      "text/plain": [
       "<matplotlib.axes._subplots.AxesSubplot at 0x127e97588>"
      ]
     },
     "execution_count": 42,
     "metadata": {},
     "output_type": "execute_result"
    },
    {
     "data": {
      "image/png": "[encoded data removed]",
      "text/plain": [
       "<Figure size 720x1008 with 1 Axes>"
      ]
     },
     "metadata": {
      "needs_background": "light"
     },
     "output_type": "display_data"
    }
   ],
   "source": [
    "# Importància dels atributs\n",
    "\n",
    "fig, ax = plt.subplots(1,1,figsize=(10,14))\n",
    "plot_importance(booster=model, ax=ax)"
   ]
  },
  {
   "cell_type": "markdown",
   "metadata": {},
   "source": [
    "## Predicció"
   ]
  },
  {
   "cell_type": "code",
   "execution_count": 44,
   "metadata": {},
   "outputs": [],
   "source": [
    "# Separació d'atributs i etiqueta\n",
    "\n",
    "X = train.drop('item_cnt', 1)\n",
    "y = train['item_cnt']"
   ]
  },
  {
   "cell_type": "code",
   "execution_count": 45,
   "metadata": {
    "scrolled": false
   },
   "outputs": [
    {
     "name": "stdout",
     "output_type": "stream",
     "text": [
      "[0]\tvalidation_0-rmse:3.05419\n",
      "[1]\tvalidation_0-rmse:2.85044\n",
      "[2]\tvalidation_0-rmse:2.66649\n",
      "[3]\tvalidation_0-rmse:2.50573\n",
      "[4]\tvalidation_0-rmse:2.36146\n",
      "[5]\tvalidation_0-rmse:2.23562\n",
      "[6]\tvalidation_0-rmse:2.11902\n",
      "[7]\tvalidation_0-rmse:2.01444\n",
      "[8]\tvalidation_0-rmse:1.91752\n",
      "[9]\tvalidation_0-rmse:1.83169\n",
      "[10]\tvalidation_0-rmse:1.76113\n",
      "[11]\tvalidation_0-rmse:1.68975\n",
      "[12]\tvalidation_0-rmse:1.62746\n",
      "[13]\tvalidation_0-rmse:1.56681\n",
      "[14]\tvalidation_0-rmse:1.51399\n",
      "[15]\tvalidation_0-rmse:1.46639\n",
      "[16]\tvalidation_0-rmse:1.42467\n",
      "[17]\tvalidation_0-rmse:1.38923\n",
      "[18]\tvalidation_0-rmse:1.35596\n",
      "[19]\tvalidation_0-rmse:1.32372\n",
      "[20]\tvalidation_0-rmse:1.29929\n",
      "[21]\tvalidation_0-rmse:1.27251\n",
      "[22]\tvalidation_0-rmse:1.24757\n",
      "[23]\tvalidation_0-rmse:1.22467\n",
      "[24]\tvalidation_0-rmse:1.20299\n",
      "[25]\tvalidation_0-rmse:1.18304\n",
      "[26]\tvalidation_0-rmse:1.16288\n",
      "[27]\tvalidation_0-rmse:1.14642\n",
      "[28]\tvalidation_0-rmse:1.12847\n",
      "[29]\tvalidation_0-rmse:1.11451\n",
      "[30]\tvalidation_0-rmse:1.10269\n",
      "[31]\tvalidation_0-rmse:1.09197\n",
      "[32]\tvalidation_0-rmse:1.07907\n",
      "[33]\tvalidation_0-rmse:1.07021\n",
      "[34]\tvalidation_0-rmse:1.05903\n",
      "[35]\tvalidation_0-rmse:1.04831\n",
      "[36]\tvalidation_0-rmse:1.03851\n",
      "[37]\tvalidation_0-rmse:1.02955\n",
      "[38]\tvalidation_0-rmse:1.02069\n",
      "[39]\tvalidation_0-rmse:1.01363\n"
     ]
    }
   ],
   "source": [
    "# Entrenament\n",
    "\n",
    "model = XGBRegressor(max_depth=10, n_estimators= 40, objective='reg:squarederror')\\\n",
    "                    .fit(X, y, eval_metric=\"rmse\", eval_set=[(X,y)])"
   ]
  },
  {
   "cell_type": "code",
   "execution_count": 48,
   "metadata": {
    "scrolled": false
   },
   "outputs": [],
   "source": [
    "# Predicció\n",
    "\n",
    "y_pred = model.predict(test[X.columns]).clip(0,20)\n",
    "submission = pd.DataFrame({'ID':test['ID'], 'item_cnt_month': y_pred})\n",
    "submission.to_csv('submission.csv', index = False)"
   ]
  },
  {
   "cell_type": "code",
   "execution_count": 50,
   "metadata": {},
   "outputs": [
    {
     "data": {
      "text/plain": [
       "1.0150034695847288"
      ]
     },
     "execution_count": 50,
     "metadata": {},
     "output_type": "execute_result"
    }
   ],
   "source": [
    "# RMSE al conjunt d'entrenament\n",
    "\n",
    "np.sqrt(mean_squared_error(model.predict(train[X.columns]), y))"
   ]
  },
  {
   "cell_type": "markdown",
   "metadata": {},
   "source": [
    "RMSE al conjunt test (public score): 1.08680"
   ]
  }
 ],
 "metadata": {
  "kernelspec": {
   "display_name": "Python 3",
   "language": "python",
   "name": "python3"
  },
  "language_info": {
   "codemirror_mode": {
    "name": "ipython",
    "version": 3
   },
   "file_extension": ".py",
   "mimetype": "text/x-python",
   "name": "python",
   "nbconvert_exporter": "python",
   "pygments_lexer": "ipython3",
   "version": "3.6.8"
  }
 },
 "nbformat": 4,
 "nbformat_minor": 2
}
